{
 "cells": [
  {
   "cell_type": "markdown",
   "id": "2060efb7",
   "metadata": {},
   "source": [
    "# CONVERTIMOS EL ARCHIVO DE CSV A EXCEL"
   ]
  },
  {
   "cell_type": "code",
   "execution_count": 5,
   "id": "75a8040a",
   "metadata": {},
   "outputs": [],
   "source": [
    "import pandas as pd\n",
    "pd.read_csv('data/nfl_football_team_stats.csv').to_excel('data/nfl_football_team_stats.xlsx', index=False)"
   ]
  }
 ],
 "metadata": {
  "kernelspec": {
   "display_name": "Python 3 (ipykernel)",
   "language": "python",
   "name": "python3"
  },
  "language_info": {
   "codemirror_mode": {
    "name": "ipython",
    "version": 3
   },
   "file_extension": ".py",
   "mimetype": "text/x-python",
   "name": "python",
   "nbconvert_exporter": "python",
   "pygments_lexer": "ipython3",
   "version": "3.9.12"
  }
 },
 "nbformat": 4,
 "nbformat_minor": 5
}

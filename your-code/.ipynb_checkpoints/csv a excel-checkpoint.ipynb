{
 "cells": [
  {
   "cell_type": "code",
   "execution_count": 14,
   "id": "66639df2",
   "metadata": {},
   "outputs": [],
   "source": [
    "import pandas as pd\n",
    "\n",
    "import numpy as np"
   ]
  },
  {
   "cell_type": "code",
   "execution_count": 15,
   "id": "0db1cc20",
   "metadata": {},
   "outputs": [],
   "source": [
    "nfl_football_team_stats = pd.read_csv('../data/nfl_football_team_stats.csv')\n",
    "countries_of_the_world = pd.read_csv('../data/countries-of-the-world.csv')"
   ]
  },
  {
   "cell_type": "code",
   "execution_count": 16,
   "id": "1a242574",
   "metadata": {},
   "outputs": [],
   "source": [
    "nfl_football_team_stats.to_excel('nfl_football_team_stats.xlsx',  index=False)\n",
    "countries_of_the_world.to_excel('countries_of_the_world.xlsx',  index=False)"
   ]
  },
  {
   "cell_type": "code",
   "execution_count": null,
   "id": "11ac1a6c",
   "metadata": {},
   "outputs": [],
   "source": []
  }
 ],
 "metadata": {
  "kernelspec": {
   "display_name": "Python 3 (ipykernel)",
   "language": "python",
   "name": "python3"
  },
  "language_info": {
   "codemirror_mode": {
    "name": "ipython",
    "version": 3
   },
   "file_extension": ".py",
   "mimetype": "text/x-python",
   "name": "python",
   "nbconvert_exporter": "python",
   "pygments_lexer": "ipython3",
   "version": "3.9.7"
  }
 },
 "nbformat": 4,
 "nbformat_minor": 5
}
